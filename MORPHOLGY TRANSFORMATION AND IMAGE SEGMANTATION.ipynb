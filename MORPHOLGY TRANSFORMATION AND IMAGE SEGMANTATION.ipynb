{
 "cells": [
  {
   "cell_type": "raw",
   "id": "510cf72f",
   "metadata": {},
   "source": [
    "pip install opencv-contrib-python"
   ]
  },
  {
   "cell_type": "markdown",
   "id": "af637581",
   "metadata": {},
   "source": [
    "# MORPHOLGY TRANSFORMATION AND IMAGE SEGMANTATION"
   ]
  },
  {
   "cell_type": "code",
   "execution_count": 1,
   "id": "2d9b4728",
   "metadata": {},
   "outputs": [],
   "source": [
    "import cv2 as cv\n",
    "import matplotlib.pyplot as plt \n",
    "import numpy as np"
   ]
  },
  {
   "cell_type": "markdown",
   "id": "cf98f748",
   "metadata": {},
   "source": [
    "# DILATION and ERROSION"
   ]
  },
  {
   "cell_type": "code",
   "execution_count": 2,
   "id": "8ffc0710",
   "metadata": {},
   "outputs": [],
   "source": [
    "img=cv.imread(\"j.png\",0)\n",
    "img=cv.cvtColor(img,cv.COLOR_BGR2RGB)"
   ]
  },
  {
   "cell_type": "code",
   "execution_count": 3,
   "id": "2de86a1b",
   "metadata": {},
   "outputs": [],
   "source": [
    "_,mask=cv.threshold(img,220,255,cv.THRESH_BINARY)\n",
    "kernal=np.ones((3,3),np.uint8)"
   ]
  },
  {
   "cell_type": "markdown",
   "id": "27c13fef",
   "metadata": {},
   "source": [
    "# DILATION"
   ]
  },
  {
   "cell_type": "code",
   "execution_count": 4,
   "id": "a4c8c327",
   "metadata": {},
   "outputs": [],
   "source": [
    "dilation=cv.dilate(mask,kernal,iterations=1)"
   ]
  },
  {
   "cell_type": "markdown",
   "id": "64569d14",
   "metadata": {},
   "source": [
    "# ERROSION"
   ]
  },
  {
   "cell_type": "code",
   "execution_count": 5,
   "id": "cdf4f279",
   "metadata": {},
   "outputs": [],
   "source": [
    "erode=cv.erode(mask,kernal,iterations=1)"
   ]
  },
  {
   "cell_type": "markdown",
   "id": "d18de6b8",
   "metadata": {},
   "source": [
    "# Display using Ploting method"
   ]
  },
  {
   "cell_type": "code",
   "execution_count": 6,
   "id": "5807f054",
   "metadata": {},
   "outputs": [
    {
     "data": {
      "text/plain": [
       "<function matplotlib.pyplot.show(close=None, block=None)>"
      ]
     },
     "execution_count": 6,
     "metadata": {},
     "output_type": "execute_result"
    },
    {
     "data": {
      "image/png": "[encoded data removed]",
      "text/plain": [
       "<Figure size 432x288 with 4 Axes>"
      ]
     },
     "metadata": {
      "needs_background": "light"
     },
     "output_type": "display_data"
    }
   ],
   "source": [
    "titles=['image','mask','dilate','erode']\n",
    "images=[img,mask,dilation,erode]\n",
    "for i in range(len(images)):\n",
    "    plt.subplot(2,2,i+1),plt.imshow(images[i])\n",
    "    plt.title(titles[i])\n",
    "plt.show"
   ]
  },
  {
   "cell_type": "markdown",
   "id": "8628adb6",
   "metadata": {},
   "source": [
    "# Morphological Opening - errosion followed by dilation"
   ]
  },
  {
   "cell_type": "code",
   "execution_count": 7,
   "id": "56b50971",
   "metadata": {},
   "outputs": [],
   "source": [
    "img1=cv.imread(\"gg.jpg\",0)\n",
    "img1=cv.cvtColor(img1,cv.COLOR_BGR2RGB)"
   ]
  },
  {
   "cell_type": "code",
   "execution_count": 8,
   "id": "c98f86b7",
   "metadata": {},
   "outputs": [],
   "source": [
    "kernal=np.ones((3,3),np.uint8)"
   ]
  },
  {
   "cell_type": "markdown",
   "id": "d4917d8f",
   "metadata": {},
   "source": [
    "# Morph_open "
   ]
  },
  {
   "cell_type": "code",
   "execution_count": 9,
   "id": "9ee84a73",
   "metadata": {},
   "outputs": [],
   "source": [
    "open = cv.morphologyEx(img1,cv.MORPH_OPEN, kernal)"
   ]
  },
  {
   "cell_type": "markdown",
   "id": "7aa9df6f",
   "metadata": {},
   "source": [
    "# Display "
   ]
  },
  {
   "cell_type": "raw",
   "id": "85683740",
   "metadata": {},
   "source": [
    "cv.imshow('Orginal',img1)\n",
    "cv.imshow('Morph_open',open)\n",
    "cv.waitKey(0)\n",
    "cv.destroyAllWindows()"
   ]
  },
  {
   "cell_type": "markdown",
   "id": "9091b891",
   "metadata": {},
   "source": [
    "# Morphological Closing - errosion followed by dilation"
   ]
  },
  {
   "cell_type": "code",
   "execution_count": 10,
   "id": "883f25e0",
   "metadata": {},
   "outputs": [],
   "source": [
    "close = cv.morphologyEx(img1,cv.MORPH_CLOSE, kernal)"
   ]
  },
  {
   "cell_type": "markdown",
   "id": "d8b9f7f9",
   "metadata": {},
   "source": [
    "# Display "
   ]
  },
  {
   "cell_type": "raw",
   "id": "f4d585a2",
   "metadata": {},
   "source": [
    "cv.imshow('Orginal',img1)\n",
    "cv.imshow('Morph_close',close)\n",
    "cv.waitKey(0)\n",
    "cv.destroyAllWindows()"
   ]
  },
  {
   "cell_type": "markdown",
   "id": "a1cbf08e",
   "metadata": {},
   "source": [
    "# Morphological Gradiant - errosion followed by dilation"
   ]
  },
  {
   "cell_type": "code",
   "execution_count": 13,
   "id": "e6eb01a0",
   "metadata": {},
   "outputs": [],
   "source": [
    "gradient = cv.morphologyEx(img1,cv.MORPH_GRADIENT, kernal)"
   ]
  },
  {
   "cell_type": "markdown",
   "id": "6a101b0d",
   "metadata": {},
   "source": [
    "# Display"
   ]
  },
  {
   "cell_type": "raw",
   "id": "a4e27f5c",
   "metadata": {},
   "source": [
    "cv.imshow('Orginal',img1)\n",
    "cv.imshow('Morph_Gradient',gradient)\n",
    "cv.waitKey(0)\n",
    "cv.destroyAllWindows()"
   ]
  },
  {
   "cell_type": "markdown",
   "id": "84473c09",
   "metadata": {},
   "source": [
    "# Top Hat - opening and diff.of original and opening"
   ]
  },
  {
   "cell_type": "code",
   "execution_count": 16,
   "id": "5b622101",
   "metadata": {},
   "outputs": [],
   "source": [
    "tophat = cv.morphologyEx(img1,cv.MORPH_TOPHAT, kernal)"
   ]
  },
  {
   "cell_type": "markdown",
   "id": "52eee72d",
   "metadata": {},
   "source": [
    "# Display"
   ]
  },
  {
   "cell_type": "raw",
   "id": "7652dc57",
   "metadata": {},
   "source": [
    "cv.imshow('Orginal',img1)\n",
    "cv.imshow('Morph_Tophat',tophat)\n",
    "cv.waitKey(0)\n",
    "cv.destroyAllWindows()"
   ]
  },
  {
   "cell_type": "markdown",
   "id": "6e84bacf",
   "metadata": {},
   "source": [
    "# Black Hat - opp of top hat"
   ]
  },
  {
   "cell_type": "code",
   "execution_count": 18,
   "id": "514acc3e",
   "metadata": {},
   "outputs": [],
   "source": [
    "blackhat = cv.morphologyEx(img1,cv.MORPH_BLACKHAT, kernal)"
   ]
  },
  {
   "cell_type": "markdown",
   "id": "bb377710",
   "metadata": {},
   "source": [
    "# Display"
   ]
  },
  {
   "cell_type": "raw",
   "id": "0d68f42a",
   "metadata": {},
   "source": [
    "cv.imshow('Orginal',img1)\n",
    "cv.imshow('Morph_BlackHat',blackhat)\n",
    "cv.waitKey(0)\n",
    "cv.destroyAllWindows()"
   ]
  },
  {
   "cell_type": "code",
   "execution_count": null,
   "id": "942b764e",
   "metadata": {},
   "outputs": [],
   "source": []
  },
  {
   "cell_type": "markdown",
   "id": "bba506a0",
   "metadata": {},
   "source": [
    "# Erossion\n",
    "# Dilation\n",
    "#### Morphological Opening - errosion followed by dilation\n",
    "#### Morphological Closing - Dilation followed by errosion\n",
    "#### Morphological Gradiant - errosion , dilation ,difference of both\n",
    "### Top Hat - opening and diff. of original and opening \n",
    "### Black Hat - Opp of top hat"
   ]
  },
  {
   "cell_type": "code",
   "execution_count": null,
   "id": "c93534fc",
   "metadata": {},
   "outputs": [],
   "source": [
    " "
   ]
  }
 ],
 "metadata": {
  "kernelspec": {
   "display_name": "Python 3 (ipykernel)",
   "language": "python",
   "name": "python3"
  },
  "language_info": {
   "codemirror_mode": {
    "name": "ipython",
    "version": 3
   },
   "file_extension": ".py",
   "mimetype": "text/x-python",
   "name": "python",
   "nbconvert_exporter": "python",
   "pygments_lexer": "ipython3",
   "version": "3.9.7"
  }
 },
 "nbformat": 4,
 "nbformat_minor": 5
}
