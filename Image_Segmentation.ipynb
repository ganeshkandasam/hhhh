{
 "cells": [
  {
   "cell_type": "code",
   "execution_count": null,
   "id": "39cd2063",
   "metadata": {},
   "outputs": [],
   "source": [
    "import cv2 as cv\n",
    "import numpy as np"
   ]
  },
  {
   "cell_type": "code",
   "execution_count": null,
   "id": "17ba9fd5",
   "metadata": {},
   "outputs": [],
   "source": [
    "# read image \n",
    "img=cv.imread(\"hh.jfif\")\n",
    "# resize image \n",
    "reimg=cv.resize(img,(512,512))"
   ]
  },
  {
   "cell_type": "raw",
   "id": "dd5eb034",
   "metadata": {},
   "source": [
    "imgrgb = cv.cvtColor(img,cv.COLOR_BGR2RGB)"
   ]
  },
  {
   "cell_type": "raw",
   "id": "df69bd18",
   "metadata": {},
   "source": [
    "# Select ROI\n",
    "r=cv.selectROI(\"Select the area\",img)"
   ]
  },
  {
   "cell_type": "raw",
   "id": "c72a46bb",
   "metadata": {},
   "source": [
    "# Crop image\n",
    "cropped_image = image[int(r[1]):int(r[1]+r[3]),int(r[0]):int(r[0]+r[2])]"
   ]
  },
  {
   "cell_type": "raw",
   "id": "576f66c5",
   "metadata": {},
   "source": [
    "# Display cropped image \n",
    "cv.imshow(\"Croppped_image\",cropped_image)\n",
    "cv.waitkey(0)"
   ]
  },
  {
   "cell_type": "markdown",
   "id": "e27ddd7b",
   "metadata": {},
   "source": [
    "# K-Means Clustering"
   ]
  },
  {
   "cell_type": "markdown",
   "id": "c73caaf7",
   "metadata": {},
   "source": [
    "# Importing libraries"
   ]
  },
  {
   "cell_type": "code",
   "execution_count": null,
   "id": "5e216c2f",
   "metadata": {},
   "outputs": [],
   "source": []
  }
 ],
 "metadata": {
  "kernelspec": {
   "display_name": "Python 3 (ipykernel)",
   "language": "python",
   "name": "python3"
  },
  "language_info": {
   "codemirror_mode": {
    "name": "ipython",
    "version": 3
   },
   "file_extension": ".py",
   "mimetype": "text/x-python",
   "name": "python",
   "nbconvert_exporter": "python",
   "pygments_lexer": "ipython3",
   "version": "3.9.7"
  }
 },
 "nbformat": 4,
 "nbformat_minor": 5
}
