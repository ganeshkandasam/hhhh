{
 "cells": [
  {
   "cell_type": "markdown",
   "id": "6d37c2fa",
   "metadata": {},
   "source": [
    "# Heading Rotation and Translation"
   ]
  },
  {
   "cell_type": "code",
   "execution_count": 1,
   "id": "8b3c83d3",
   "metadata": {},
   "outputs": [],
   "source": [
    "import cv2\n",
    "import numpy as np"
   ]
  },
  {
   "cell_type": "code",
   "execution_count": 2,
   "id": "265c594f",
   "metadata": {},
   "outputs": [],
   "source": [
    "im1=cv2.imread(\"img1.jfif\")\n",
    "im2=cv2.imread(\"img2.jfif\")"
   ]
  },
  {
   "cell_type": "code",
   "execution_count": 3,
   "id": "75956b09",
   "metadata": {},
   "outputs": [
    {
     "data": {
      "text/plain": [
       "array([[[237, 177, 111],\n",
       "        [237, 177, 111],\n",
       "        [237, 177, 111],\n",
       "        ...,\n",
       "        [237, 177, 111],\n",
       "        [237, 177, 111],\n",
       "        [237, 177, 111]],\n",
       "\n",
       "       [[235, 175, 109],\n",
       "        [235, 175, 109],\n",
       "        [235, 175, 109],\n",
       "        ...,\n",
       "        [235, 175, 109],\n",
       "        [235, 175, 109],\n",
       "        [235, 175, 109]],\n",
       "\n",
       "       [[233, 174, 105],\n",
       "        [233, 174, 105],\n",
       "        [233, 174, 105],\n",
       "        ...,\n",
       "        [233, 174, 105],\n",
       "        [233, 174, 105],\n",
       "        [233, 174, 105]],\n",
       "\n",
       "       ...,\n",
       "\n",
       "       [[ 27,  77,  29],\n",
       "        [ 28,  75,  29],\n",
       "        [ 34,  77,  34],\n",
       "        ...,\n",
       "        [ 90, 146,  57],\n",
       "        [ 96, 157,  66],\n",
       "        [ 83, 147,  52]],\n",
       "\n",
       "       [[  3,  53,   5],\n",
       "        [  0,  45,   0],\n",
       "        [  2,  45,   2],\n",
       "        ...,\n",
       "        [ 35,  93,   5],\n",
       "        [ 52, 114,  24],\n",
       "        [ 43, 108,  16]],\n",
       "\n",
       "       [[  0,  47,   0],\n",
       "        [  0,  36,   0],\n",
       "        [  0,  33,   0],\n",
       "        ...,\n",
       "        [ 32,  92,   4],\n",
       "        [ 36,  98,   8],\n",
       "        [ 46, 111,  19]]], dtype=uint8)"
      ]
     },
     "execution_count": 3,
     "metadata": {},
     "output_type": "execute_result"
    }
   ],
   "source": [
    "im1"
   ]
  },
  {
   "cell_type": "code",
   "execution_count": 4,
   "id": "919f4fd2",
   "metadata": {},
   "outputs": [
    {
     "data": {
      "text/plain": [
       "array([[[253, 247, 242],\n",
       "        [250, 244, 239],\n",
       "        [251, 245, 240],\n",
       "        ...,\n",
       "        [254, 253, 249],\n",
       "        [254, 253, 249],\n",
       "        [254, 253, 249]],\n",
       "\n",
       "       [[249, 243, 238],\n",
       "        [246, 240, 235],\n",
       "        [247, 241, 236],\n",
       "        ...,\n",
       "        [254, 253, 249],\n",
       "        [254, 253, 249],\n",
       "        [254, 253, 249]],\n",
       "\n",
       "       [[248, 242, 237],\n",
       "        [244, 238, 233],\n",
       "        [244, 238, 233],\n",
       "        ...,\n",
       "        [254, 253, 249],\n",
       "        [254, 253, 249],\n",
       "        [254, 253, 249]],\n",
       "\n",
       "       ...,\n",
       "\n",
       "       [[244, 235, 222],\n",
       "        [246, 238, 225],\n",
       "        [234, 225, 216],\n",
       "        ...,\n",
       "        [224, 218, 211],\n",
       "        [224, 218, 211],\n",
       "        [224, 218, 211]],\n",
       "\n",
       "       [[245, 236, 223],\n",
       "        [248, 240, 227],\n",
       "        [236, 227, 218],\n",
       "        ...,\n",
       "        [227, 221, 214],\n",
       "        [227, 221, 214],\n",
       "        [227, 221, 214]],\n",
       "\n",
       "       [[247, 238, 225],\n",
       "        [250, 242, 229],\n",
       "        [238, 229, 220],\n",
       "        ...,\n",
       "        [230, 224, 217],\n",
       "        [230, 224, 217],\n",
       "        [230, 224, 217]]], dtype=uint8)"
      ]
     },
     "execution_count": 4,
     "metadata": {},
     "output_type": "execute_result"
    }
   ],
   "source": [
    "im2"
   ]
  },
  {
   "cell_type": "code",
   "execution_count": 5,
   "id": "264a7298",
   "metadata": {},
   "outputs": [],
   "source": [
    "im1_shape=im1.shape\n",
    "im2_shape=im2.shape"
   ]
  },
  {
   "cell_type": "code",
   "execution_count": 6,
   "id": "4ec59a37",
   "metadata": {},
   "outputs": [],
   "source": [
    "im1_resized=cv2.resize(im1,(230,290))\n",
    "im2_resized=cv2.resize(im2,(230,290))"
   ]
  },
  {
   "cell_type": "raw",
   "id": "fde4bfbc",
   "metadata": {},
   "source": [
    "cv2.imshow(\"Sample1\",im1)\n",
    "cv2.imshow(\"Sample3\",im1_resized)\n",
    "cv2.imshow(\"Sample2\",im2)\n",
    "cv2.imshow(\"SAmple4\",im2_resized)\n",
    "cv2.waitKey(0)\n",
    "cv2.destroyAllWindows()"
   ]
  },
  {
   "cell_type": "code",
   "execution_count": 7,
   "id": "22ca66d4",
   "metadata": {},
   "outputs": [
    {
     "name": "stdout",
     "output_type": "stream",
     "text": [
      "(180, 216, 3)\n"
     ]
    }
   ],
   "source": [
    "shp = im1.shape\n",
    "print(shp)"
   ]
  },
  {
   "cell_type": "code",
   "execution_count": 8,
   "id": "df711f68",
   "metadata": {},
   "outputs": [
    {
     "name": "stdout",
     "output_type": "stream",
     "text": [
      "180\n",
      "216\n"
     ]
    }
   ],
   "source": [
    "height,width = im1.shape[:2]\n",
    "print(height)\n",
    "print(width)"
   ]
  },
  {
   "cell_type": "code",
   "execution_count": 9,
   "id": "4b4c417c",
   "metadata": {},
   "outputs": [
    {
     "data": {
      "text/plain": [
       "(90.0, 108.0)"
      ]
     },
     "execution_count": 9,
     "metadata": {},
     "output_type": "execute_result"
    }
   ],
   "source": [
    "cent=(height/2,width/2)\n",
    "cent"
   ]
  },
  {
   "cell_type": "code",
   "execution_count": 10,
   "id": "9f118ea8",
   "metadata": {},
   "outputs": [],
   "source": [
    "rotation_matrix=cv2.getRotationMatrix2D(center=cent,angle=25,scale=0.5)"
   ]
  },
  {
   "cell_type": "code",
   "execution_count": 11,
   "id": "5ab7c7bf",
   "metadata": {
    "scrolled": true
   },
   "outputs": [
    {
     "name": "stdout",
     "output_type": "stream",
     "text": [
      "[[ 0.45315389  0.21130913 26.39476345]\n",
      " [-0.21130913  0.45315389 78.07720128]]\n"
     ]
    }
   ],
   "source": [
    "print(rotation_matrix)"
   ]
  },
  {
   "cell_type": "code",
   "execution_count": 12,
   "id": "e6e096ea",
   "metadata": {},
   "outputs": [],
   "source": [
    "rotated_im=cv2.warpAffine(src=im1,M=rotation_matrix,dsize=(width,height))"
   ]
  },
  {
   "cell_type": "code",
   "execution_count": null,
   "id": "d7bb849b",
   "metadata": {},
   "outputs": [],
   "source": [
    "cv2.imshow(\"Original_Image\",im1)\n",
    "cv2.imshow(\"Rotated_Image\",rotated_im)\n",
    "cv2.waitKey(0)\n",
    "cv2.destroyAllWindows()"
   ]
  },
  {
   "cell_type": "markdown",
   "id": "710298de",
   "metadata": {},
   "source": [
    "# Translation Matrix"
   ]
  },
  {
   "cell_type": "code",
   "execution_count": 13,
   "id": "ebfd94b8",
   "metadata": {},
   "outputs": [],
   "source": [
    "tx,ty=width/2,height/2\n",
    "print(tx)\n",
    "print(ty)"
   ]
  },
  {
   "cell_type": "code",
   "execution_count": 14,
   "id": "978ca88c",
   "metadata": {},
   "outputs": [],
   "source": [
    "Translation_matrix=np.array([[1,0,tx],[0,1,ty]])"
   ]
  },
  {
   "cell_type": "code",
   "execution_count": 15,
   "id": "ab813fc3",
   "metadata": {},
   "outputs": [
    {
     "data": {
      "text/plain": [
       "array([[  1.,   0., 108.],\n",
       "       [  0.,   1.,  90.]])"
      ]
     },
     "execution_count": 15,
     "metadata": {},
     "output_type": "execute_result"
    }
   ],
   "source": [
    "Translation_matrix"
   ]
  },
  {
   "cell_type": "raw",
   "id": "94dc1c85",
   "metadata": {},
   "source": [
    "array([[  1.,   0., 108.],\n",
    "       [  0.,   1.,  90.]])"
   ]
  },
  {
   "cell_type": "code",
   "execution_count": 16,
   "id": "be3618df",
   "metadata": {},
   "outputs": [],
   "source": [
    "Trans_im=cv2.warpAffine(src=im1,M=Translation_matrix,dsize=(width,height))"
   ]
  },
  {
   "cell_type": "code",
   "execution_count": null,
   "id": "0378940d",
   "metadata": {},
   "outputs": [],
   "source": [
    "cv2.imshow(\"Original_Image\",im1)\n",
    "cv2.imshow(\"Rotated_Image\",Trans_im)\n",
    "cv2.waitKey(0)\n",
    "cv2.destroyAllWindows()"
   ]
  },
  {
   "cell_type": "code",
   "execution_count": null,
   "id": "05885573",
   "metadata": {},
   "outputs": [],
   "source": []
  }
 ],
 "metadata": {
  "kernelspec": {
   "display_name": "Python 3 (ipykernel)",
   "language": "python",
   "name": "python3"
  },
  "language_info": {
   "codemirror_mode": {
    "name": "ipython",
    "version": 3
   },
   "file_extension": ".py",
   "mimetype": "text/x-python",
   "name": "python",
   "nbconvert_exporter": "python",
   "pygments_lexer": "ipython3",
   "version": "3.9.7"
  }
 },
 "nbformat": 4,
 "nbformat_minor": 5
}
