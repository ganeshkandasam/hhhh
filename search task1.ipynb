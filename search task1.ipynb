{
 "cells": [
  {
   "cell_type": "code",
   "execution_count": 3,
   "id": "efc7772e",
   "metadata": {},
   "outputs": [],
   "source": [
    "graph={'home':['maxwellschool','keelavaasal'],\n",
    "       'keelavaasal':['oldbusstand'],\n",
    "      'maxwellschool':['railwaystation','aathupaalam'],\n",
    "       'railwaystation':['aathupaalam'],\n",
    "      'aathupaalam':['oldbusstand','newbusstand'],\n",
    "      'newbusstand':['bypass'],\n",
    "      'bypass':['vallam'],\n",
    "      'vallam':['pmist'],\n",
    "      'oldbusstand':['tmc'],\n",
    "      'tmc':['pillayarpatti'],\n",
    "      'pillayarpatti':['pmist'],\n",
    "       'pmist':['vallam']\n",
    "      }"
   ]
  },
  {
   "cell_type": "code",
   "execution_count": 6,
   "id": "a21a191c",
   "metadata": {},
   "outputs": [
    {
     "name": "stdout",
     "output_type": "stream",
     "text": [
      "{'home': ['maxwellschool', 'keelavaasal'], 'keelavaasal': ['oldbusstand'], 'maxwellschool': ['railwaystation', 'aathupaalam'], 'railwaystation': ['aathupaalam'], 'aathupaalam': ['oldbusstand', 'newbusstand'], 'newbusstand': ['bypass'], 'bypass': ['vallam'], 'vallam': ['pmist'], 'oldbusstand': ['tmc'], 'tmc': ['pillayarpatti'], 'pillayarpatti': ['pmist'], 'pmist': ['vallam']}\n"
     ]
    }
   ],
   "source": [
    "print(graph)"
   ]
  },
  {
   "cell_type": "code",
   "execution_count": 4,
   "id": "a7d42f10",
   "metadata": {},
   "outputs": [],
   "source": [
    "from collections import deque\n",
    "def route(graph,start,goal):\n",
    "    visited=[]\n",
    "    queue=deque([start])\n",
    "    while queue:\n",
    "        node=queue.popleft()\n",
    "        if node not in visited:\n",
    "            visited.append(node)\n",
    "            print(\"I have visited:\",node)\n",
    "            neighbournode=graph[node]\n",
    "            if node==goal:\n",
    "                print(\"I have reached the goal , the path I travelled is\",visited)\n",
    "            for neighbours in neighbournode:\n",
    "                    queue.append(neighbours)\n",
    "                    "
   ]
  },
  {
   "cell_type": "code",
   "execution_count": 5,
   "id": "a9dc3cef",
   "metadata": {},
   "outputs": [
    {
     "name": "stdout",
     "output_type": "stream",
     "text": [
      "I have visited: home\n",
      "I have visited: maxwellschool\n",
      "I have visited: keelavaasal\n",
      "I have visited: railwaystation\n",
      "I have visited: aathupaalam\n",
      "I have visited: oldbusstand\n",
      "I have visited: newbusstand\n",
      "I have visited: tmc\n",
      "I have visited: bypass\n",
      "I have visited: pillayarpatti\n",
      "I have visited: vallam\n",
      "I have visited: pmist\n",
      "I have reached the goal , the path I travelled is ['home', 'maxwellschool', 'keelavaasal', 'railwaystation', 'aathupaalam', 'oldbusstand', 'newbusstand', 'tmc', 'bypass', 'pillayarpatti', 'vallam', 'pmist']\n"
     ]
    }
   ],
   "source": [
    "route(graph,'home','pmist')"
   ]
  },
  {
   "cell_type": "code",
   "execution_count": null,
   "id": "4bfa5190",
   "metadata": {},
   "outputs": [],
   "source": []
  }
 ],
 "metadata": {
  "kernelspec": {
   "display_name": "Python 3 (ipykernel)",
   "language": "python",
   "name": "python3"
  },
  "language_info": {
   "codemirror_mode": {
    "name": "ipython",
    "version": 3
   },
   "file_extension": ".py",
   "mimetype": "text/x-python",
   "name": "python",
   "nbconvert_exporter": "python",
   "pygments_lexer": "ipython3",
   "version": "3.11.5"
  }
 },
 "nbformat": 4,
 "nbformat_minor": 5
}
