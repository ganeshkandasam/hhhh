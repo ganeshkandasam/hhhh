{
 "cells": [
  {
   "cell_type": "code",
   "execution_count": 1,
   "id": "d5414ca0",
   "metadata": {},
   "outputs": [],
   "source": [
    "from queue import LifoQueue"
   ]
  },
  {
   "cell_type": "code",
   "execution_count": 2,
   "id": "4ebd3243",
   "metadata": {},
   "outputs": [],
   "source": [
    "graph={\"house\":[\"maxwell\",\"keelavasal\"],\n",
    "       \"maxwell\":[\"aathupalam\"],\"keelavasal\":[\"oldbustand\"],\n",
    "       \"aathupalam\":[\"convent\",\"oldbustand\"],\"oldbustand\":[\"bigtemple\"],\n",
    "       \"convent\":[\"newbustand\"],\"bigtemple\":[\"TMC\"],\"newbustand\":[\"highway\"],\n",
    "       \"highway\":[\"TMC\",\"vallam\"],\"TMC\":[\"highway\",\"pillayarpatti\"],\n",
    "       \"pillayarpatti\":[\"PMIST\"],\"vallam\":[\"PMIST\"],\"PMIST\":[\"pillayarpatti\",\"vallam\"]}"
   ]
  },
  {
   "cell_type": "code",
   "execution_count": 3,
   "id": "1bb589f8",
   "metadata": {},
   "outputs": [],
   "source": [
    "from queue import LifoQueue\n",
    "stack=LifoQueue\n",
    "def dfs(graph,start,goal,visited):\n",
    "    stack=[start]\n",
    "    while stack:\n",
    "        node=stack.pop()\n",
    "        if node not in visited:\n",
    "            visited.append(node)\n",
    "            if node==goal:\n",
    "                print(visited)\n",
    "            for neighbours in graph[node]:\n",
    "                dfs(graph,neighbours,goal,visited)                    "
   ]
  },
  {
   "cell_type": "code",
   "execution_count": 4,
   "id": "ca3c9702",
   "metadata": {},
   "outputs": [
    {
     "name": "stdout",
     "output_type": "stream",
     "text": [
      "['house', 'maxwell', 'aathupalam', 'convent', 'newbustand', 'highway', 'TMC', 'pillayarpatti', 'PMIST']\n"
     ]
    }
   ],
   "source": [
    "dfs(graph,\"house\",\"PMIST\",[])"
   ]
  },
  {
   "cell_type": "code",
   "execution_count": null,
   "id": "95782abb",
   "metadata": {},
   "outputs": [],
   "source": [
    " "
   ]
  }
 ],
 "metadata": {
  "kernelspec": {
   "display_name": "Python 3 (ipykernel)",
   "language": "python",
   "name": "python3"
  },
  "language_info": {
   "codemirror_mode": {
    "name": "ipython",
    "version": 3
   },
   "file_extension": ".py",
   "mimetype": "text/x-python",
   "name": "python",
   "nbconvert_exporter": "python",
   "pygments_lexer": "ipython3",
   "version": "3.11.5"
  }
 },
 "nbformat": 4,
 "nbformat_minor": 5
}
