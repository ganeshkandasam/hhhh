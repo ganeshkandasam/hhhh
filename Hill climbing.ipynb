{
 "cells": [
  {
   "cell_type": "markdown",
   "id": "033676d6",
   "metadata": {},
   "source": [
    "# TRAVELLING SALES PERSON\n",
    "FINDING THE BEST POSSIBLE SHORTEST ROUTE AMONG THESE CITIES TO TRAVEL\n",
    "\n",
    "chennai-bangalore=347 , chennai-delhi=2196 , chennai-kolakatta=1667 , bangalore-delhi=2164 , bangalore-kolkatta=1875 , delhi-kolakatta=1559\n",
    "\n",
    "ALL VALUES IN KMS"
   ]
  },
  {
   "cell_type": "code",
   "execution_count": 1,
   "id": "7aa2aaa5",
   "metadata": {},
   "outputs": [],
   "source": [
    "import random"
   ]
  },
  {
   "cell_type": "code",
   "execution_count": 2,
   "id": "61368418",
   "metadata": {},
   "outputs": [],
   "source": [
    "tsp=[[0,347,2196,1667],\n",
    "    [347,0,2164,1875],\n",
    "    [2196,2164,0,1559],\n",
    "    [1667,1875,1559,0]]"
   ]
  },
  {
   "cell_type": "code",
   "execution_count": 3,
   "id": "93aba579",
   "metadata": {},
   "outputs": [
    {
     "data": {
      "text/plain": [
       "4"
      ]
     },
     "execution_count": 3,
     "metadata": {},
     "output_type": "execute_result"
    }
   ],
   "source": [
    "len(tsp)"
   ]
  },
  {
   "cell_type": "code",
   "execution_count": 4,
   "id": "713f5b59",
   "metadata": {},
   "outputs": [],
   "source": [
    "def randomsolution(tsp):\n",
    "    cities=list(range(len(tsp)))\n",
    "    solution=[]\n",
    "    \n",
    "    for i in range(len(tsp)):\n",
    "        randomcity=cities[random.randint(0,len(cities)-1)]\n",
    "        solution.append(randomcity)\n",
    "        cities.remove(randomcity)\n",
    "    return solution"
   ]
  },
  {
   "cell_type": "code",
   "execution_count": 34,
   "id": "e3416567",
   "metadata": {},
   "outputs": [
    {
     "name": "stdout",
     "output_type": "stream",
     "text": [
      "[3, 2, 1, 0]\n"
     ]
    }
   ],
   "source": [
    "solution=randomsolution(tsp)\n",
    "print(solution)"
   ]
  },
  {
   "cell_type": "code",
   "execution_count": 35,
   "id": "e8281f78",
   "metadata": {},
   "outputs": [],
   "source": [
    "def routelength(tsp,solution):\n",
    "    routelength=0\n",
    "    for i in range(len(solution)):\n",
    "        routelength += tsp[solution[i-1]][solution[i]]\n",
    "    return routelength    "
   ]
  },
  {
   "cell_type": "code",
   "execution_count": 36,
   "id": "ac26a5ad",
   "metadata": {},
   "outputs": [
    {
     "data": {
      "text/plain": [
       "5737"
      ]
     },
     "execution_count": 36,
     "metadata": {},
     "output_type": "execute_result"
    }
   ],
   "source": [
    "routelength(tsp,solution)"
   ]
  },
  {
   "cell_type": "code",
   "execution_count": 37,
   "id": "b7261ded",
   "metadata": {},
   "outputs": [],
   "source": [
    "def getneighbours(solution):\n",
    "    neighbours=[]\n",
    "    for i in range(len(solution)):\n",
    "        for j in range(i+1,len(solution)):\n",
    "            neighbour=solution.copy()\n",
    "            neighbour[i]=solution[j]\n",
    "            neighbour[j]=solution[i]\n",
    "            neighbours.append(neighbour)\n",
    "    return neighbours        "
   ]
  },
  {
   "cell_type": "code",
   "execution_count": 38,
   "id": "e83f7f29",
   "metadata": {},
   "outputs": [
    {
     "name": "stdout",
     "output_type": "stream",
     "text": [
      "[[2, 3, 1, 0], [1, 2, 3, 0], [0, 2, 1, 3], [3, 1, 2, 0], [3, 0, 1, 2], [3, 2, 0, 1]]\n"
     ]
    }
   ],
   "source": [
    "neighbours=getneighbours(solution)\n",
    "print(neighbours)"
   ]
  },
  {
   "cell_type": "code",
   "execution_count": 39,
   "id": "c9a180d8",
   "metadata": {},
   "outputs": [],
   "source": [
    "def getbestneighbour(tsp,neighbours):\n",
    "    bestroutelength=routelength(tsp,neighbours[0])\n",
    "    bestneighbour=neighbours[0]\n",
    "    for neighbour in neighbours:\n",
    "        currentroutelength=routelength(tsp,neighbour)\n",
    "        if currentroutelength<bestroutelength:\n",
    "            bestroutelength=currentroutelength\n",
    "            bestneighbour=neighbour\n",
    "    return bestneighbour,bestroutelength        "
   ]
  },
  {
   "cell_type": "code",
   "execution_count": 41,
   "id": "c36f7c61",
   "metadata": {},
   "outputs": [
    {
     "data": {
      "text/plain": [
       "([1, 2, 3, 0], 5737)"
      ]
     },
     "execution_count": 41,
     "metadata": {},
     "output_type": "execute_result"
    }
   ],
   "source": [
    "getbestneighbour(tsp,neighbours)"
   ]
  },
  {
   "cell_type": "code",
   "execution_count": 46,
   "id": "ef657318",
   "metadata": {},
   "outputs": [],
   "source": [
    "def hillclimbing(tsp):\n",
    "    currentsolution=randomsolution(tsp)\n",
    "    currentroutelength=routelength(tsp,currentsolution)\n",
    "    neighbours=getneighbours(currentsolution)\n",
    "    bestneighbour,bestneighbourroutelength=getbestneighbour(tsp,neighbours)\n",
    "    \n",
    "    while bestneighbourroutelength<currentroutelength:\n",
    "        currentsolution=bestneighbour\n",
    "        currentroutelength=bestneighbourroutelength\n",
    "        neighbours=getneighbours(currentsolution)\n",
    "        bestneighbour,bestneighbourroutelength=getbestneighbour(tsp,neighbours)\n",
    "    return currentsolution,currentroutelength     "
   ]
  },
  {
   "cell_type": "code",
   "execution_count": 47,
   "id": "644bf8d6",
   "metadata": {},
   "outputs": [
    {
     "name": "stdout",
     "output_type": "stream",
     "text": [
      "([0, 1, 2, 3], 5737)\n"
     ]
    }
   ],
   "source": [
    "print(hillclimbing(tsp))"
   ]
  },
  {
   "cell_type": "code",
   "execution_count": null,
   "id": "2dea201e",
   "metadata": {},
   "outputs": [],
   "source": []
  }
 ],
 "metadata": {
  "kernelspec": {
   "display_name": "Python 3 (ipykernel)",
   "language": "python",
   "name": "python3"
  },
  "language_info": {
   "codemirror_mode": {
    "name": "ipython",
    "version": 3
   },
   "file_extension": ".py",
   "mimetype": "text/x-python",
   "name": "python",
   "nbconvert_exporter": "python",
   "pygments_lexer": "ipython3",
   "version": "3.11.5"
  }
 },
 "nbformat": 4,
 "nbformat_minor": 5
}
