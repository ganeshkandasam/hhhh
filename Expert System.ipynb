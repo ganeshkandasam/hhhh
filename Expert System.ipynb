{
 "cells": [
  {
   "cell_type": "code",
   "execution_count": 1,
   "id": "37b56098",
   "metadata": {
    "scrolled": true
   },
   "outputs": [
    {
     "name": "stdout",
     "output_type": "stream",
     "text": [
      "\t\tWelcome To Automobile AI Expert\n",
      "\n",
      " AI :Do You Have Any Problem With Your Vehicle ? (Yes or No)\n",
      "\n",
      "You :yes\n",
      "\n",
      " Enter the type of your issue listen down below : \n",
      "1.starting trouble \n",
      "2.woubble while driving \n",
      "3.i didn't have issue\n",
      "\n",
      "\n",
      " Enter here(Numbers only)1\n",
      "\n",
      "AI:Check the key is inserted?\n",
      "AI:Is it inserted? (yes or no)\n",
      "You: yes\n",
      "\n",
      "AI: keep try to start\n",
      ".............................\n",
      "AI:I don't know about this issue,contact the service worker\n"
     ]
    }
   ],
   "source": [
    "import time\n",
    "print(\"\\t\\tWelcome To Automobile AI Expert\")\n",
    "print(\"\\n AI :Do You Have Any Problem With Your Vehicle ? (Yes or No)\\n\")\n",
    "choice1 = input(\"You :\")\n",
    "if choice1 == \"yes\":\n",
    "    print(\"\\n Enter the type of your issue listen down below : \\n1.starting trouble \\n2.woubble while driving \\n3.i didn't have issue\\n\")\n",
    "    choice2 = input(\"\\n Enter here(Numbers only)\")\n",
    "    if choice2 > \"3\" or choice2 < \"1\":\n",
    "        print(\"\\nAI :Please enter valid key\")\n",
    "    elif choice2 == \"3\":\n",
    "        print(\"\\nAI :You don't have any issue\")\n",
    "    elif choice2 == \"2\":\n",
    "        print(\"\\nAI :Ok we will process soon..\")\n",
    "        for i in range(1,20):\n",
    "            time.sleep(0.08)\n",
    "            print(\".\",flush=True,end=\"\")\n",
    "        print(\"\\nAI :When do you feel woubbling \\n1.while drive on the highway at terrible speed \\n2.while drive normal road\\n\")\n",
    "        choice3 = input(\"you :\")\n",
    "        if choice3 == \"1\":\n",
    "            print(\"\\nAI :go slow\")\n",
    "        elif choice3 == \"2\":\n",
    "            print(\"\\nAI :Check your tire air pressure and then inform me kindly\")\n",
    "            print(\"\\nAI :still you feel wouble?(yes or no)\\n\")\n",
    "            choice4=input(\"You:\")\n",
    "            if choice4 == \"no\":\n",
    "                print(\"\\nAI: I'M glad to help you\")\n",
    "            elif choice4 == \"yes\":\n",
    "                print(\"\\nAI:I think your bike wheel was bend ,Check your nearby service centre \")\n",
    "            else:\n",
    "                print(\"\\nAI:Please enter the correct answer\")\n",
    "        else:\n",
    "            print(\"\\nAI:Please enter valid key\")\n",
    "    else:\n",
    "        print(\"\\nAI:Check the key is inserted?\\nAI:Is it inserted? (yes or no)\")\n",
    "        choice5=input(\"You: \")\n",
    "        if choice5 == \"no\":\n",
    "            print(\"Insert the key\")\n",
    "        elif choice5 == \"yes\":\n",
    "            print(\"\\nAI: keep try to start\")\n",
    "            for i in range(1,30):\n",
    "                time.sleep(0.08)\n",
    "                print(\".\",flush=True,end=\"\")\n",
    "            print(\"\\nAI:I don't know about this issue,contact the service worker\")\n",
    "        else:\n",
    "            print(\"plz enter the correct answer\")\n",
    "elif choice1==\"no\":\n",
    "    print(\"\\nAI:Then why are you waste my time.\")\n",
    "else:\n",
    "    print(\"\\nAI: Enter a valid key\")                                                                                                                                                                                                                                                                                                                                                                                                                                                                                                                                                                                                                                                                                                                                                                                                                                                                                                                                                                                                                                                                                                                                                                                                                                                                                                           \n",
    "                  \n",
    "                  \n",
    "                  \n",
    "     \n",
    "                  \n",
    "       \n",
    "                  \n",
    "    \n",
    "                \n",
    "                  \n",
    "                  "
   ]
  },
  {
   "cell_type": "code",
   "execution_count": null,
   "id": "f3d6115e",
   "metadata": {},
   "outputs": [],
   "source": []
  }
 ],
 "metadata": {
  "kernelspec": {
   "display_name": "Python 3 (ipykernel)",
   "language": "python",
   "name": "python3"
  },
  "language_info": {
   "codemirror_mode": {
    "name": "ipython",
    "version": 3
   },
   "file_extension": ".py",
   "mimetype": "text/x-python",
   "name": "python",
   "nbconvert_exporter": "python",
   "pygments_lexer": "ipython3",
   "version": "3.11.5"
  }
 },
 "nbformat": 4,
 "nbformat_minor": 5
}
