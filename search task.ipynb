{
 "cells": [
  {
   "cell_type": "code",
   "execution_count": 2,
   "id": "5b4c823b",
   "metadata": {},
   "outputs": [],
   "source": [
    "graph={'home':['maxwellschool','keelavaasal'],\n",
    "       'keelavaasal':['oldbusstand'],\n",
    "      'maxwellschool':['railwaystation','aathupaalam'],\n",
    "       'railwaystation':['aathupaalam'],\n",
    "      'aathupaalam':['oldbusstand','newbusstand'],\n",
    "      'newbusstand':['bypass'],\n",
    "      'bypass':['vallam'],\n",
    "      'vallam':['pmist'],\n",
    "      'oldbusstand':['tmc'],\n",
    "      'tmc':['pillayarpatti'],\n",
    "      'pillayarpatti':['pmist'],\n",
    "       'pmist':['vallam']\n",
    "      }"
   ]
  },
  {
   "cell_type": "code",
   "execution_count": 3,
   "id": "51054fc4",
   "metadata": {},
   "outputs": [
    {
     "name": "stdout",
     "output_type": "stream",
     "text": [
      "{'home': ['maxwellschool', 'keelavaasal'], 'keelavaasal': ['oldbusstand'], 'maxwellschool': ['railwaystation', 'aathupaalam'], 'railwaystation': ['aathupaalam'], 'aathupaalam': ['oldbusstand', 'newbusstand'], 'newbusstand': ['bypass'], 'bypass': ['vallam'], 'vallam': ['pmist'], 'oldbusstand': ['tmc'], 'tmc': ['pillayarpatti'], 'pillayarpatti': ['pmist'], 'pmist': ['vallam']}\n"
     ]
    }
   ],
   "source": [
    "print(graph)"
   ]
  },
  {
   "cell_type": "code",
   "execution_count": 4,
   "id": "9d2f9ad7",
   "metadata": {},
   "outputs": [],
   "source": [
    "from queue import LifoQueue\n",
    "stack=LifoQueue\n",
    "def route(graph,start,goal,visited):\n",
    "    stack=[start]\n",
    "    while stack:\n",
    "        node=stack.pop()\n",
    "        if node not in visited:\n",
    "            visited.append(node)\n",
    "            if node==goal:\n",
    "                print(visited)\n",
    "            for neighbours in graph[node]:\n",
    "                route(graph,neighbours,goal,visited)"
   ]
  },
  {
   "cell_type": "code",
   "execution_count": 5,
   "id": "29f17ab8",
   "metadata": {
    "scrolled": true
   },
   "outputs": [
    {
     "name": "stdout",
     "output_type": "stream",
     "text": [
      "['home', 'maxwellschool', 'railwaystation', 'aathupaalam', 'oldbusstand', 'tmc', 'pillayarpatti', 'pmist']\n"
     ]
    }
   ],
   "source": [
    "route(graph,'home','pmist',[])"
   ]
  },
  {
   "cell_type": "code",
   "execution_count": null,
   "id": "fb2eff22",
   "metadata": {},
   "outputs": [],
   "source": []
  }
 ],
 "metadata": {
  "kernelspec": {
   "display_name": "Python 3 (ipykernel)",
   "language": "python",
   "name": "python3"
  },
  "language_info": {
   "codemirror_mode": {
    "name": "ipython",
    "version": 3
   },
   "file_extension": ".py",
   "mimetype": "text/x-python",
   "name": "python",
   "nbconvert_exporter": "python",
   "pygments_lexer": "ipython3",
   "version": "3.11.5"
  }
 },
 "nbformat": 4,
 "nbformat_minor": 5
}
