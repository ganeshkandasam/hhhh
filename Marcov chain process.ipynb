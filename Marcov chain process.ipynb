{
 "cells": [
  {
   "cell_type": "raw",
   "id": "d42171ca",
   "metadata": {},
   "source": [
    "If mr.marcov had a pizza for lunch the probability that he is going to have a pizza is 75% and 25% is probable that he is going to have vegetables and steak tomorrow.Similarly if Mr.Marcov have vegetables and steak for lunch today\n",
    "then he is 60% sure that he will have the same lunch tomorrow and 40% sure that he will have a  vbfpizza..."
   ]
  },
  {
   "cell_type": "code",
   "execution_count": 1,
   "id": "13720776",
   "metadata": {},
   "outputs": [],
   "source": [
    "from protopunica import *\n",
    "import numpy as np"
   ]
  },
  {
   "cell_type": "code",
   "execution_count": 2,
   "id": "c8e17b34",
   "metadata": {},
   "outputs": [],
   "source": [
    "start=DiscreteDistribution({\"Pizza\":1,\"Veg\":0})"
   ]
  },
  {
   "cell_type": "code",
   "execution_count": 3,
   "id": "ee328e25",
   "metadata": {},
   "outputs": [],
   "source": [
    "Transitions=ConditionalProbabilityTable([[\"Pizza\",\"Pizza\",0.75],\n",
    "                                        [\"Pizza\",\"Veg\",0.25],\n",
    "                                        [\"Veg\",\"Veg\",0.6],\n",
    "                                        [\"Veg\",\"Pizza\",0.4]],[start])"
   ]
  },
  {
   "cell_type": "code",
   "execution_count": 4,
   "id": "48ebe5f7",
   "metadata": {},
   "outputs": [],
   "source": [
    "Model=MarkovChain([start,Transitions])"
   ]
  },
  {
   "cell_type": "code",
   "execution_count": 5,
   "id": "0c100efb",
   "metadata": {},
   "outputs": [],
   "source": [
    "Random_samples=Model.sample(3)"
   ]
  },
  {
   "cell_type": "code",
   "execution_count": 6,
   "id": "8698d47c",
   "metadata": {},
   "outputs": [
    {
     "name": "stdout",
     "output_type": "stream",
     "text": [
      "['Pizza', 'Pizza', 'Pizza']\n"
     ]
    }
   ],
   "source": [
    "print(Random_samples)"
   ]
  },
  {
   "cell_type": "code",
   "execution_count": 7,
   "id": "10c689d1",
   "metadata": {},
   "outputs": [],
   "source": [
    "Log_probability=Model.log_probability(Random_samples)"
   ]
  },
  {
   "cell_type": "code",
   "execution_count": 8,
   "id": "595d419f",
   "metadata": {},
   "outputs": [],
   "source": [
    "probability_of_occurance=np.exp(Log_probability)"
   ]
  },
  {
   "cell_type": "code",
   "execution_count": 9,
   "id": "b1024bb0",
   "metadata": {},
   "outputs": [
    {
     "data": {
      "text/plain": [
       "0.5625"
      ]
     },
     "execution_count": 9,
     "metadata": {},
     "output_type": "execute_result"
    }
   ],
   "source": [
    "probability_of_occurance"
   ]
  },
  {
   "cell_type": "code",
   "execution_count": 10,
   "id": "247d59d4",
   "metadata": {},
   "outputs": [],
   "source": [
    "Log_probability_food_sequence=Model.log_probability([\"Pizza\",\"Pizza\",\"Pizza\"])"
   ]
  },
  {
   "cell_type": "code",
   "execution_count": 11,
   "id": "aca92977",
   "metadata": {},
   "outputs": [],
   "source": [
    "probability_of_food=np.exp(Log_probability_food_sequence)"
   ]
  },
  {
   "cell_type": "code",
   "execution_count": 12,
   "id": "a12548c6",
   "metadata": {},
   "outputs": [
    {
     "name": "stdout",
     "output_type": "stream",
     "text": [
      "0.5625\n"
     ]
    }
   ],
   "source": [
    "print(probability_of_food)"
   ]
  },
  {
   "cell_type": "code",
   "execution_count": null,
   "id": "6c4f46be",
   "metadata": {},
   "outputs": [],
   "source": []
  }
 ],
 "metadata": {
  "kernelspec": {
   "display_name": "Python 3 (ipykernel)",
   "language": "python",
   "name": "python3"
  },
  "language_info": {
   "codemirror_mode": {
    "name": "ipython",
    "version": 3
   },
   "file_extension": ".py",
   "mimetype": "text/x-python",
   "name": "python",
   "nbconvert_exporter": "python",
   "pygments_lexer": "ipython3",
   "version": "3.11.5"
  }
 },
 "nbformat": 4,
 "nbformat_minor": 5
}
