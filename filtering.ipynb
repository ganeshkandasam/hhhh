{
 "cells": [
  {
   "cell_type": "markdown",
   "id": "77c8deef",
   "metadata": {},
   "source": [
    "# filtering"
   ]
  },
  {
   "cell_type": "code",
   "execution_count": 1,
   "id": "5ee1e57d",
   "metadata": {},
   "outputs": [],
   "source": [
    "import cv2 \n",
    "import matplotlib.pyplot as plt\n",
    "import numpy as np"
   ]
  },
  {
   "cell_type": "code",
   "execution_count": 2,
   "id": "f61eb136",
   "metadata": {
    "scrolled": true
   },
   "outputs": [
    {
     "name": "stdout",
     "output_type": "stream",
     "text": [
      "[[[ 39 127 255]\n",
      "  [ 39 127 255]\n",
      "  [ 39 127 255]\n",
      "  ...\n",
      "  [ 39 127 254]\n",
      "  [ 39 127 253]\n",
      "  [ 40 127 254]]\n",
      "\n",
      " [[ 39 127 255]\n",
      "  [ 39 127 255]\n",
      "  [ 39 127 255]\n",
      "  ...\n",
      "  [ 39 127 253]\n",
      "  [ 39 127 253]\n",
      "  [ 40 127 254]]\n",
      "\n",
      " [[ 39 127 255]\n",
      "  [ 39 127 255]\n",
      "  [ 39 127 255]\n",
      "  ...\n",
      "  [ 39 126 252]\n",
      "  [ 39 126 252]\n",
      "  [ 39 126 253]]\n",
      "\n",
      " ...\n",
      "\n",
      " [[ 72 208  22]\n",
      "  [ 73 208  23]\n",
      "  [ 67 202  19]\n",
      "  ...\n",
      "  [ 68 206  15]\n",
      "  [ 67 205  15]\n",
      "  [ 69 209  14]]\n",
      "\n",
      " [[ 69 204  18]\n",
      "  [ 65 200  14]\n",
      "  [ 74 209  26]\n",
      "  ...\n",
      "  [ 68 207  16]\n",
      "  [ 67 206  15]\n",
      "  [ 69 209  14]]\n",
      "\n",
      " [[ 66 201  14]\n",
      "  [ 68 204  18]\n",
      "  [ 78 211  28]\n",
      "  ...\n",
      "  [ 69 208  17]\n",
      "  [ 68 205  15]\n",
      "  [ 69 209  14]]]\n"
     ]
    }
   ],
   "source": [
    "im1=cv2.imread(\"india.png\")\n",
    "print(im1)"
   ]
  },
  {
   "cell_type": "markdown",
   "id": "82d4b535",
   "metadata": {},
   "source": [
    "# filter2d"
   ]
  },
  {
   "cell_type": "code",
   "execution_count": 3,
   "id": "dc30e1f2",
   "metadata": {},
   "outputs": [],
   "source": [
    "kernal=np.ones((5,5),np.float32)/25\n",
    "filter=cv2.filter2D(im1,-1,kernal)"
   ]
  },
  {
   "cell_type": "raw",
   "id": "496adb74",
   "metadata": {},
   "source": [
    "cv2.imshow('image',im1)\n",
    "cv2.imshow('filtered2d',filter)\n",
    "cv2.waitKey(0)\n",
    "cv2.destroyAllWindows()"
   ]
  },
  {
   "cell_type": "markdown",
   "id": "7a528671",
   "metadata": {},
   "source": [
    "# blur"
   ]
  },
  {
   "cell_type": "code",
   "execution_count": 4,
   "id": "791fc1f5",
   "metadata": {},
   "outputs": [],
   "source": [
    "blur= cv2.blur(im1,(3,3))"
   ]
  },
  {
   "cell_type": "raw",
   "id": "9b7bf2ea",
   "metadata": {},
   "source": [
    "cv2.imshow('image',im1)\n",
    "cv2.imshow('blur',blur)\n",
    "cv2.waitKey(0)\n",
    "cv2.destroyAllWindows()"
   ]
  },
  {
   "cell_type": "markdown",
   "id": "d8d2db74",
   "metadata": {},
   "source": [
    "# Gaussian blur"
   ]
  },
  {
   "cell_type": "code",
   "execution_count": 5,
   "id": "41c75af8",
   "metadata": {},
   "outputs": [],
   "source": [
    "Gblur=cv2.GaussianBlur(im1,(7,7),0)"
   ]
  },
  {
   "cell_type": "raw",
   "id": "0a379dd8",
   "metadata": {},
   "source": [
    "cv2.imshow('imshow',im1)\n",
    "cv2.imshow('Gaussianblur',Gblur)\n",
    "cv2.waitKey(0)\n",
    "cv2.destroyAllWindows()"
   ]
  },
  {
   "cell_type": "markdown",
   "id": "68f2d7c2",
   "metadata": {},
   "source": [
    "# bilateral filter"
   ]
  },
  {
   "cell_type": "code",
   "execution_count": 6,
   "id": "0afd53ef",
   "metadata": {},
   "outputs": [
    {
     "name": "stdout",
     "output_type": "stream",
     "text": [
      "(264, 296, 3)\n"
     ]
    }
   ],
   "source": [
    "print(im1.shape)"
   ]
  },
  {
   "cell_type": "code",
   "execution_count": 7,
   "id": "16c26309",
   "metadata": {},
   "outputs": [],
   "source": [
    "Bfilter=cv2.bilateralFilter(im1,9,50,50)"
   ]
  },
  {
   "cell_type": "raw",
   "id": "42b0dd2c",
   "metadata": {},
   "source": [
    "cv2.imshow('image',img)\n",
    "cv2.imshow('Bilateralfilter',Bfilter)\n",
    "cv2.waitKey(0)\n",
    "cv2.destroyAllWindows()"
   ]
  },
  {
   "cell_type": "markdown",
   "id": "bee622ba",
   "metadata": {},
   "source": [
    "# median filter"
   ]
  },
  {
   "cell_type": "code",
   "execution_count": 8,
   "id": "c7f8b94f",
   "metadata": {},
   "outputs": [],
   "source": [
    "medianfilter= cv2.medianBlur(im1,5)"
   ]
  },
  {
   "cell_type": "raw",
   "id": "f40d096d",
   "metadata": {},
   "source": [
    "cv2.imshow('image',im1)\n",
    "cv2.imshow('medianblur',medianfilter)\n",
    "cv2.waitKey(0)\n",
    "cv2.destroyAllWindows()"
   ]
  },
  {
   "cell_type": "markdown",
   "id": "fb275caf",
   "metadata": {},
   "source": [
    "# Laplacian Filter"
   ]
  },
  {
   "cell_type": "code",
   "execution_count": 9,
   "id": "9dacee49",
   "metadata": {},
   "outputs": [],
   "source": [
    "im2=cv2.imread(\"india.png\",0)"
   ]
  },
  {
   "cell_type": "code",
   "execution_count": 10,
   "id": "71002377",
   "metadata": {},
   "outputs": [],
   "source": [
    "lap = cv2.Laplacian(im2,cv2.CV_64F,ksize=3)"
   ]
  },
  {
   "cell_type": "code",
   "execution_count": 11,
   "id": "52a1777a",
   "metadata": {},
   "outputs": [],
   "source": [
    "lap = np.uint8(np.absolute(lap))"
   ]
  },
  {
   "cell_type": "raw",
   "id": "dc8ebe43",
   "metadata": {},
   "source": [
    "cv2.imshow('image',im2)\n",
    "cv2.imshow('laplacian',lap)\n",
    "cv2.waitKey(0)\n",
    "cv2.destroyAllWindows()"
   ]
  },
  {
   "cell_type": "markdown",
   "id": "0ec3214e",
   "metadata": {},
   "source": [
    "# Sobel Filter"
   ]
  },
  {
   "cell_type": "code",
   "execution_count": 12,
   "id": "de766207",
   "metadata": {},
   "outputs": [
    {
     "name": "stdout",
     "output_type": "stream",
     "text": [
      "[[255 240 253 ... 255 244 249]\n",
      " [240 255 255 ... 250 255 249]\n",
      " [253 253 116 ...  29  97 154]\n",
      " ...\n",
      " [249 253 121 ...  13  86 139]\n",
      " [252 255 236 ... 222 247 252]\n",
      " [255 250 250 ... 255 255 249]]\n"
     ]
    }
   ],
   "source": [
    "im3=cv2.imread(\"sudoku.jfif\",0)\n",
    "print(im3)"
   ]
  },
  {
   "cell_type": "code",
   "execution_count": 13,
   "id": "96cedd32",
   "metadata": {},
   "outputs": [
    {
     "name": "stdout",
     "output_type": "stream",
     "text": [
      "[[  0  26   0 ...  20  14   0]\n",
      " [  0 109 225 ...  45 117   0]\n",
      " [  0 157  52 ...  57 203   0]\n",
      " ...\n",
      " [  0 182  92 ...  63 225   0]\n",
      " [  0 165  29 ...  78 180   0]\n",
      " [  0  42  40 ...  24  48   0]]\n"
     ]
    }
   ],
   "source": [
    "sobelx = cv2.Sobel(im3,cv2.CV_64F,1,0,ksize=3)\n",
    "sobelx = np.uint8(np.absolute(sobelx))\n",
    "print(sobelx)"
   ]
  },
  {
   "cell_type": "code",
   "execution_count": null,
   "id": "44cb3973",
   "metadata": {},
   "outputs": [],
   "source": [
    "cv2.imshow('image',im3)\n",
    "cv2.imshow('Sobel',sobelx)\n",
    "cv2.waitKey(0)\n",
    "cv2.destroyAllWindows()"
   ]
  },
  {
   "cell_type": "code",
   "execution_count": 14,
   "id": "8574dac0",
   "metadata": {},
   "outputs": [
    {
     "name": "stdout",
     "output_type": "stream",
     "text": [
      "[[  0   0   0 ...   0   0   0]\n",
      " [ 22 113 217 ...  43 103 228]\n",
      " [ 12 157 184 ... 145 101 146]\n",
      " ...\n",
      " [  2 152 120 ...   9  35 122]\n",
      " [  6 129 241 ... 108 178  46]\n",
      " [  0   0   0 ...   0   0   0]]\n"
     ]
    }
   ],
   "source": [
    "sobely = cv2.Sobel(im3,cv2.CV_64F,0,1,ksize=3)\n",
    "sobely = np.uint8(np.absolute(sobely))\n",
    "print(sobely)"
   ]
  },
  {
   "cell_type": "code",
   "execution_count": 15,
   "id": "6d41d8d7",
   "metadata": {},
   "outputs": [],
   "source": [
    "cv2.imshow('image',im3)\n",
    "cv2.imshow('Sobelx',sobelx)\n",
    "cv2.imshow('Sobely',sobely)\n",
    "cv2.waitKey(0)\n",
    "cv2.destroyAllWindows()"
   ]
  },
  {
   "cell_type": "code",
   "execution_count": null,
   "id": "2f8decc6",
   "metadata": {},
   "outputs": [],
   "source": []
  },
  {
   "cell_type": "code",
   "execution_count": null,
   "id": "f0ad7911",
   "metadata": {},
   "outputs": [],
   "source": []
  },
  {
   "cell_type": "code",
   "execution_count": null,
   "id": "782732e3",
   "metadata": {},
   "outputs": [],
   "source": []
  },
  {
   "cell_type": "code",
   "execution_count": null,
   "id": "eef2bfb2",
   "metadata": {},
   "outputs": [],
   "source": []
  }
 ],
 "metadata": {
  "kernelspec": {
   "display_name": "Python 3 (ipykernel)",
   "language": "python",
   "name": "python3"
  },
  "language_info": {
   "codemirror_mode": {
    "name": "ipython",
    "version": 3
   },
   "file_extension": ".py",
   "mimetype": "text/x-python",
   "name": "python",
   "nbconvert_exporter": "python",
   "pygments_lexer": "ipython3",
   "version": "3.9.7"
  }
 },
 "nbformat": 4,
 "nbformat_minor": 5
}
