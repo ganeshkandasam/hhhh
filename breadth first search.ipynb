{
 "cells": [
  {
   "cell_type": "code",
   "execution_count": 1,
   "id": "645cb435",
   "metadata": {},
   "outputs": [],
   "source": [
    "graph={'PKC':['STADIUM','PARKING','TREE'],\n",
    "      'STADIUM':['MAIN BLOCK'],\n",
    "      'PARKING':['JUNCTION'],\n",
    "      'JUNCTION':['ENTRANCE','MAIN BLOCK'],\n",
    "      'ENTRANCE':['JUNCTION'],\n",
    "      'MAIN BLOCK':['JUNCTION'],\n",
    "      'TREE':['PKC']\n",
    "      }"
   ]
  },
  {
   "cell_type": "code",
   "execution_count": 5,
   "id": "f49bbef3",
   "metadata": {},
   "outputs": [],
   "source": [
    "from collections import deque\n",
    "def BFS(graph,start,goal):\n",
    "    visited=[]\n",
    "    queue=deque([start])\n",
    "    while queue:\n",
    "        node=queue.popleft()\n",
    "        if node not in visited:\n",
    "            visited.append(node)\n",
    "            print(\"I have visited:\",node)\n",
    "            neighbournode=graph[node]\n",
    "            if node==goal:\n",
    "                print(\"I have reached the goal , the path I travelled is\",visited)\n",
    "            for neighbours in neighbournode:\n",
    "                    queue.append(neighbours)\n",
    "                    "
   ]
  },
  {
   "cell_type": "code",
   "execution_count": 9,
   "id": "ce163136",
   "metadata": {},
   "outputs": [
    {
     "name": "stdout",
     "output_type": "stream",
     "text": [
      "I have visited: PKC\n",
      "I have visited: STADIUM\n",
      "I have visited: PARKING\n",
      "I have visited: TREE\n",
      "I have visited: MAIN BLOCK\n",
      "I have visited: JUNCTION\n",
      "I have visited: ENTRANCE\n",
      "I have reached the goal , the path I travelled is ['PKC', 'STADIUM', 'PARKING', 'TREE', 'MAIN BLOCK', 'JUNCTION', 'ENTRANCE']\n"
     ]
    }
   ],
   "source": [
    "BFS(graph,'PKC','ENTRANCE')"
   ]
  },
  {
   "cell_type": "code",
   "execution_count": null,
   "id": "d63d2bb2",
   "metadata": {},
   "outputs": [],
   "source": []
  }
 ],
 "metadata": {
  "kernelspec": {
   "display_name": "Python 3 (ipykernel)",
   "language": "python",
   "name": "python3"
  },
  "language_info": {
   "codemirror_mode": {
    "name": "ipython",
    "version": 3
   },
   "file_extension": ".py",
   "mimetype": "text/x-python",
   "name": "python",
   "nbconvert_exporter": "python",
   "pygments_lexer": "ipython3",
   "version": "3.11.5"
  }
 },
 "nbformat": 4,
 "nbformat_minor": 5
}
